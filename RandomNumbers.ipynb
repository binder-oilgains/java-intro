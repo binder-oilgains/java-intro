{
 "cells": [
  {
   "cell_type": "markdown",
   "metadata": {},
   "source": [
    "# Generating Random Numbers\n",
    "\n",
    "In Java, use the `Random` object to generate random numbers. You will need to import the library using `import java.util.Random;`\n",
    "\n",
    "You create a Random object as usual: give it a type, in this case Random, and a variable name, which can be whatever you want; I usually call mine rand:\n",
    "\n",
    "`Random rand = new Random();`\n",
    "\n",
    "You can use this object (call methods on it) to generate random values. Common methods you might want to use are:\n",
    "\n",
    "* `nextInt()` - returns an int with a randomly generated int value. Optionally, you can provide an argument to constrain the generated value to be between 0 and 1 less than the argument you provide\n",
    "* `nextDouble()` - returns a double with a randomly generated value between 0.0 and 1.0\n",
    "\n",
    "An example is below:"
   ]
  },
  {
   "cell_type": "code",
   "execution_count": 4,
   "metadata": {},
   "outputs": [
    {
     "name": "stdout",
     "output_type": "stream",
     "text": [
      "-280532707\n",
      "4\n"
     ]
    }
   ],
   "source": [
    "import java.util.Random;\n",
    "\n",
    "Random rand = new Random();\n",
    "int x = rand.nextInt(); // x is any random int value\n",
    "System.out.println(x);\n",
    "\n",
    "int y = rand.nextInt(10); // y will be a random value between 0-9\n",
    "System.out.println(y);"
   ]
  },
  {
   "cell_type": "markdown",
   "metadata": {},
   "source": [
    "If you re-run the code above multiple times, you'll find you get different values for x and y. This is often what you want for final code, but may make it difficult to debug. If you want to fix your random values so that each call always generates the same value, usually used temporarily when debugging so you know what to expect, you can give your Random object a numerical argument when you first create it. This argument is called a *seed* and is used so that each value is generated in a consistent manner. If you are interested in learning more about seeds and how computers can generate (pseudo) random numbers, you can learn more here: https://en.wikipedia.org/wiki/Pseudorandom_number_generator\n",
    "\n",
    "An example of using a seed is shown below. Notice how each time you run the code, you'll get the same values generated. If you change the seed, you'll get different values generated (but if you re-run with the same seed, you'll get the same ones again)."
   ]
  },
  {
   "cell_type": "code",
   "execution_count": 7,
   "metadata": {},
   "outputs": [
    {
     "name": "stdout",
     "output_type": "stream",
     "text": [
      "-1156638823\n",
      "4\n"
     ]
    }
   ],
   "source": [
    "import java.util.Random;\n",
    "\n",
    "Random rand = new Random(7); // We have provided a seed to fix our random number generation\n",
    "int x = rand.nextInt(); // x is any random int value\n",
    "System.out.println(x);\n",
    "\n",
    "int y = rand.nextInt(10); // y will be a random value between 0-9\n",
    "System.out.println(y);"
   ]
  },
  {
   "cell_type": "code",
   "execution_count": null,
   "metadata": {},
   "outputs": [],
   "source": []
  }
 ],
 "metadata": {
  "kernelspec": {
   "display_name": "Java",
   "language": "java",
   "name": "java"
  },
  "language_info": {
   "codemirror_mode": "java",
   "file_extension": ".jshell",
   "mimetype": "text/x-java-source",
   "name": "Java",
   "pygments_lexer": "java",
   "version": "11.0.3+7"
  }
 },
 "nbformat": 4,
 "nbformat_minor": 2
}
