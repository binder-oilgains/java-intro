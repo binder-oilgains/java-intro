{
 "cells": [
  {
   "cell_type": "markdown",
   "metadata": {},
   "source": [
    "# Java Primitives\n",
    "\n",
    "Java is a **strongly typed** language, meaning you have to tell Java what type of variable you want to use. Java has several built-in variable types, known as *primitives* for storing different sorts of data. Some of the most common primitives we will use are demonstrated below:"
   ]
  },
  {
   "cell_type": "code",
   "execution_count": 6,
   "metadata": {},
   "outputs": [
    {
     "name": "stdout",
     "output_type": "stream",
     "text": [
      "The value of x is: 5\n",
      "The biggest possible int is: 2147483647\n",
      "If you try to go over this value, it will wrap around to the smallest value, like so:\n",
      "Now the value of x is: -2147483648\n",
      "The value of y is: 2147483648\n",
      "The character c is A, with a numerical value of: 65\n"
     ]
    }
   ],
   "source": [
    "int x = 5; // ints hold integers from -2147483648 (-2^31) to 2147483647 (2^31 - 1). If you ever need them, these values are stored as Integer.MAX_VALUE and Integer.MIN_VALUE\n",
    "System.out.println(\"The value of x is: \" + x);\n",
    "x = Integer.MAX_VALUE;\n",
    "System.out.println(\"The biggest possible int is: \" + x);\n",
    "System.out.println(\"If you try to go over this value, it will wrap around to the smallest value, like so:\"); // this is known as \"integer overflow\" and can be an issue if you are dealing with very large (or very small) numbers\n",
    "x = x + 1;\n",
    "System.out.println(\"Now the value of x is: \" + x);\n",
    "\n",
    "long y = Integer.MAX_VALUE; // longs are used if your numbers are too big for ints. longs can hold integer values between -9,223,372,036,854,775,808 (-2^63) and 9,223,372,036,854,775,807 (2^63 - 1) \n",
    "y = y + 1;\n",
    "System.out.println(\"The value of y is: \" + y);\n",
    "\n",
    "boolean b = false; // booleans hold either true or false\n",
    "\n",
    "char c = 'A'; // chars are used to hold a single letter, but also have a numerical value. For instance, capital A corresponds to the number 65, while lowercase a is 97\n",
    "System.out.println(\"The character c is \" + c + \", with a numerical value of: \" + (int)c); // You can look up corresponding numerical values by consulting an ASCII chart (e.g., see https://simple.wikipedia.org/wiki/ASCII)\n",
    "\n",
    "float f = 6.6743f; // floats can be used for numbers with decimal values with up to 7 decimals. Note the f after the number (this is required to indicate the number should be stored as a float)\n",
    "double d = 3.14159; // doubles are used for numbers with decimal values with up to 16 decimal digits. Now-a-days, it is more common to simply use doubles in most cases and floats are less commonly used."
   ]
  },
  {
   "cell_type": "markdown",
   "metadata": {},
   "source": [
    "## Arithmetic Operations"
   ]
  },
  {
   "cell_type": "markdown",
   "metadata": {},
   "source": [
    "Java supports all common arithmetic operations, as shown below:"
   ]
  },
  {
   "cell_type": "code",
   "execution_count": 21,
   "metadata": {},
   "outputs": [
    {
     "name": "stdout",
     "output_type": "stream",
     "text": [
      "7\n",
      "2\n",
      "4\n",
      "6\n",
      "2\n",
      "6\n",
      "2\n",
      "1\n",
      "1\n",
      "2\n",
      "2\n",
      "B\n"
     ]
    }
   ],
   "source": [
    "int x = 5;\n",
    "int y = x + 2;\n",
    "System.out.println(y); // prints 7 since 5 + 2 is 7\n",
    "\n",
    "int z = y - x;\n",
    "System.out.println(z); // prints 2 since 7 - 5 is 2\n",
    "\n",
    "int m = z * z;\n",
    "System.out.println(m); // prints 4 since 2*2 is 4\n",
    "\n",
    "int n = 24 / m;\n",
    "System.out.println(n); // prints 6 since 24 / 4 is 6\n",
    "\n",
    "int d = x / 2;\n",
    "System.out.println(d); // remember to be careful about integer division. What does this print out, and why?\n",
    "\n",
    "// Java lets you combine arithmetic operations with the assignment (=) operation:\n",
    "\n",
    "x += 1; // shorthand for writing x = x + 1;\n",
    "System.out.println(x); // prints 6 since 5 + 1 is 6\n",
    "\n",
    "z -= n; // shorthand for writing z = z - n; - what is z now?\n",
    "\n",
    "n *= 2; // shorthand for writing n = n * 2; - what is n now?\n",
    "\n",
    "x /= 3; // shorthand for writing x = x / 3; - what is x now?\n",
    "\n",
    "// Java also has shorthand for incrementing and decrementing by 1\n",
    "\n",
    "int i = 1;\n",
    "i++; // shorthand for writing i = i + 1;\n",
    "System.out.println(i); // prints out 2\n",
    "i--; // shorthand for writing i = i - 1;\n",
    "System.out.println(i); // prints out 1\n",
    "\n",
    "// This shorthand can either be \"postfix\" (as in the exmaples above) with x++ or x--, or \"prefix\" with ++x or --x. These behave slightly differently:\n",
    "\n",
    "System.out.println(i++); // Postfix will first print out i (whose value is currently 1), then add 1 to i, so afterwards i will be 2\n",
    "System.out.println(i); // prints out 2\n",
    "\n",
    "i--; // reset i's value to 1\n",
    "System.out.println(++i); // Prefix will first add 1 to i, then print it out (thus this prints out 2);\n",
    "\n",
    "// Note: since chars actually hold numerical values, you can use arithmetic operations on them (hint: this may be helpful for your first assignment)\n",
    "char myChar = 'A';\n",
    "myChar++;\n",
    "System.out.println(myChar); // prints B since myChar previously held the value of A (which is 65), and we added one to it, meaning its new value is 66, which corresponds to B in the ASCII table\n"
   ]
  },
  {
   "cell_type": "markdown",
   "metadata": {},
   "source": [
    "## Advanced Arithmetic Operations"
   ]
  },
  {
   "cell_type": "code",
   "execution_count": 14,
   "metadata": {},
   "outputs": [
    {
     "name": "stdout",
     "output_type": "stream",
     "text": [
      "3\n",
      "25.0\n",
      "10.0\n"
     ]
    }
   ],
   "source": [
    "// The modulus operator (%) lets you determine remainders\n",
    "int x = 15 % 6;\n",
    "System.out.println(x); // prints 3 since 15 / 6 is 2 remainder 3\n",
    "\n",
    "// For more advanced operations, use the Math library\n",
    "\n",
    "double y = Math.pow(5,2); // Math.pow is used to calculate powers\n",
    "System.out.println(y); // prints 25.0 since 5^2 is 25. Note that it prints out 25.0, not 25, since y is of type double\n",
    "\n",
    "double z = Math.sqrt(100); // Math.sqrt is used to calculate square roots\n",
    "System.out.println(z); // prints 10 since the square root of 100 is 10\n",
    "\n",
    "// There are many other useful Math functions you can use, such as Math.sin (calcules sine), Math.abs (get the absolute value of a nubmer), etc."
   ]
  },
  {
   "cell_type": "markdown",
   "metadata": {},
   "source": [
    "## Casting (Type Conversion)\n",
    "You can change variables from one type to another by **casting** them to another type. To do so, you put the type you want it to become in parenthesis, as below:"
   ]
  },
  {
   "cell_type": "code",
   "execution_count": 19,
   "metadata": {},
   "outputs": [
    {
     "name": "stdout",
     "output_type": "stream",
     "text": [
      "3\n",
      "A\n"
     ]
    }
   ],
   "source": [
    "double x = 3.14;\n",
    "int y = (int) x; // converts x's value to an int and stores it in y\n",
    "System.out.println(y); // prints out 3 since casting a double to an int simply chops off any decimal values\n",
    "\n",
    "x += 62;\n",
    "System.out.println((char)x); // what does this print out? why? (use the info from the sections above...)"
   ]
  },
  {
   "cell_type": "markdown",
   "metadata": {},
   "source": [
    "## Excercise\n",
    "Write a program to solve the quadratic equation given some hard-coded values for a, b, and c:"
   ]
  },
  {
   "cell_type": "code",
   "execution_count": 15,
   "metadata": {},
   "outputs": [],
   "source": [
    "double a = 2, b = 5, c = -3; // this is shorthand for declaring a, b, and c all to be doubles on separate lines of code\n",
    "\n",
    "// Your code here:"
   ]
  },
  {
   "cell_type": "markdown",
   "metadata": {},
   "source": [
    "# Strings\n",
    "Strings are a **reference type** not a **primitive type**. We will explain this difference more throughout class. Strings in general are easy to work with in Java, but there are a few things to remember:"
   ]
  },
  {
   "cell_type": "code",
   "execution_count": 32,
   "metadata": {},
   "outputs": [
    {
     "name": "stdout",
     "output_type": "stream",
     "text": [
      "Hello there ATLS2519\n",
      "There are 20 characters in the message above\n",
      "The first character in the message above is: H\n",
      "The first l in the message above occurs at index 2\n",
      "The letters in position 3-10 in the message above are lo there\n",
      "The first word in the message above is: Hello\n"
     ]
    }
   ],
   "source": [
    "String myString = \"Hello\"; // note that the String type declaration must use a capital S (i.e., can't say string myString). This is another indication it is a reference type, not a primitive type (all primitive types start with lower case like int, double, etc.)\n",
    "\n",
    "int classNum = 2519;\n",
    "myString += \" there ATLS\" + classNum; // you can use the + sign to \"add\" Strings and numbers together into a longer String. This is called \"concatenation\"\n",
    "System.out.println(myString);\n",
    "\n",
    "// There are many methods you can call on Strings that may be useful. A few are demoed below:\n",
    "\n",
    "System.out.println(\"There are \" + myString.length() + \" characters in the message above\"); // .length() gets you the length of a String\n",
    "\n",
    "System.out.println(\"The first character in the message above is: \" + myString.charAt(0)); // .charAt gets you the character at a target position. Note that Strings are 0-indexed (i.e., the first position is position number 0)\n",
    "\n",
    "System.out.println(\"The first l in the message above occurs at index \" + myString.indexOf('l')); // .indexOf gets you the first occurance of a target char in a String, or returns -1 if the target char wasn't found. Note that Strings are 0-indexed\n",
    "\n",
    "String upperCaseMessage = myString.toUpperCase(); // toUpperCase() returns a new String that is in all upper case\n",
    "\n",
    "System.out.println(\"The letters in position 3-11 in the message above are: \" + myString.substring(3,11)); // .substring gets you a sub-sequence of the String starting at a given index and going up to, but not including, the en\n",
    "\n",
    "// These methods can be combined to do various useful things, such as:\n",
    "System.out.println(\"The first word in the message above is: \" + myString.substring(0, myString.indexOf(' ')));\n",
    "\n",
    "\n"
   ]
  },
  {
   "cell_type": "code",
   "execution_count": null,
   "metadata": {},
   "outputs": [],
   "source": [
    " "
   ]
  }
 ],
 "metadata": {
  "kernelspec": {
   "display_name": "Java",
   "language": "java",
   "name": "java"
  },
  "language_info": {
   "codemirror_mode": "java",
   "file_extension": ".jshell",
   "mimetype": "text/x-java-source",
   "name": "Java",
   "pygments_lexer": "java",
   "version": "11.0.3+7"
  }
 },
 "nbformat": 4,
 "nbformat_minor": 2
}
