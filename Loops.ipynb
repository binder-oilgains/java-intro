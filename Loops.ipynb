{
 "cells": [
  {
   "cell_type": "markdown",
   "metadata": {},
   "source": [
    "# Loops\n",
    "\n",
    "Java has 3 main types of loops:\n",
    "* `while`\n",
    "* `do while`\n",
    "* `for`\n",
    "\n",
    "## While Loop\n",
    "\n",
    "Identical to C++, essentially the same as Python. Used when you don't know how many times you need the loop to run (could run 0, 1, or many times).\n",
    "\n",
    "The syntax is:\n",
    "\n",
    "```\n",
    "while(some boolean expression) {\n",
    "    // code to execute in each loop iteration\n",
    "}\n",
    "```\n",
    "\n",
    "A simple example is below:"
   ]
  },
  {
   "cell_type": "code",
   "execution_count": 1,
   "metadata": {},
   "outputs": [
    {
     "name": "stdout",
     "output_type": "stream",
     "text": [
      "1\n",
      "2\n",
      "3\n",
      "4\n",
      "5\n"
     ]
    }
   ],
   "source": [
    "int i = 1;\n",
    "while (i < 6) {\n",
    "    System.out.println(i);\n",
    "    i++;\n",
    "}"
   ]
  },
  {
   "cell_type": "markdown",
   "metadata": {},
   "source": [
    "## Do While Loop\n",
    "\n",
    "Used when you know you want to run a loop at least once (and may run many more times). The syntax is:\n",
    "\n",
    "```\n",
    "do {\n",
    "    // code to execute in each loop iteration\n",
    "} while(some boolean expression)\n",
    "```\n",
    "\n",
    "A simple example that matches the while loop above is shown below:"
   ]
  },
  {
   "cell_type": "code",
   "execution_count": 7,
   "metadata": {},
   "outputs": [
    {
     "name": "stdout",
     "output_type": "stream",
     "text": [
      "1\n",
      "2\n",
      "3\n",
      "4\n",
      "5\n"
     ]
    }
   ],
   "source": [
    "int i = 1;\n",
    "do {\n",
    "    System.out.println(i);\n",
    "    i++;\n",
    "} while (i < 6);"
   ]
  },
  {
   "cell_type": "markdown",
   "metadata": {},
   "source": [
    "These loops are the most rarely used, since you could instead just write a basic while loop. However, they can be useful in performing input validation, as in the example below:"
   ]
  },
  {
   "cell_type": "code",
   "execution_count": 1,
   "metadata": {},
   "outputs": [
    {
     "name": "stdout",
     "output_type": "stream",
     "text": [
      "Enter Weight (>= 0):\n"
     ]
    },
    {
     "name": "stdin",
     "output_type": "stream",
     "text": [
      " 50\n"
     ]
    },
    {
     "name": "stdout",
     "output_type": "stream",
     "text": [
      "Your weight is 50.0\n"
     ]
    }
   ],
   "source": [
    "import java.util.Scanner;\n",
    "\n",
    "Scanner in = new Scanner(System.in);\n",
    "double weight = -1;\n",
    "do {\n",
    "    System.out.println(\"Enter Weight (>= 0):\");\n",
    "    if (in.hasNextDouble()) weight = in.nextDouble();\n",
    "    else {\n",
    "        System.out.println(\"Please enter a double\");\n",
    "        in.next(); // Needed to clear the input buffer! \n",
    "    }\n",
    "} while (weight < 0);\n",
    "System.out.println(\"Your weight is \" + weight); // We are guaranteed to have a valid weight at this point in the code"
   ]
  },
  {
   "cell_type": "markdown",
   "metadata": {},
   "source": [
    "## For Loop\n",
    "\n",
    "For loops are used to run a loop a fixed number of times. The syntax can take a bit of time to get used to, but it is worth your time as for loops are used extensively. The basic syntax is:\n",
    "\n",
    "```\n",
    "for (initialize loop control variable; boolean condition; update loop control variable) {\n",
    "    // code to execute in each loop iteration\n",
    "}\n",
    "```\n",
    "\n",
    "Here is a simple for loop that matches the while and do while loops above:"
   ]
  },
  {
   "cell_type": "code",
   "execution_count": 8,
   "metadata": {},
   "outputs": [
    {
     "name": "stdout",
     "output_type": "stream",
     "text": [
      "1\n",
      "2\n",
      "3\n",
      "4\n",
      "5\n"
     ]
    }
   ],
   "source": [
    "for (int i = 1; i < 6; i++) {\n",
    "    System.out.println(i);\n",
    "}"
   ]
  },
  {
   "cell_type": "markdown",
   "metadata": {},
   "source": [
    "## Scope\n",
    "\n",
    "Variables can only be used within the scope in which they are defined (i.e., within the set of squiggly braces they are declared in). Variables that are declared within a loop are only defined within that loop and will be re-initialized every time the loop runs."
   ]
  },
  {
   "cell_type": "markdown",
   "metadata": {},
   "source": [
    "# Exercise\n",
    "\n",
    "Using your knowledge of user input, random number generation, conditionals, and loops, write a best-of-3 rock, paper, scissors game. Specifically, your program should:\n",
    "\n",
    "Repeat 3 times:\n",
    "* Have user input a 1, 2, or a 3 (1 = rock, 2 = paper, 3 = scissors)\n",
    "* Have computer generate a random number 1, 2, or 3 (1 = rock, 2 = paper, 3 = scissors)\n",
    "* Output who wond the round\n",
    "Output who won the overal match"
   ]
  }
 ],
 "metadata": {
  "kernelspec": {
   "display_name": "Java",
   "language": "java",
   "name": "java"
  },
  "language_info": {
   "codemirror_mode": "java",
   "file_extension": ".jshell",
   "mimetype": "text/x-java-source",
   "name": "Java",
   "pygments_lexer": "java",
   "version": "11.0.3+7"
  }
 },
 "nbformat": 4,
 "nbformat_minor": 2
}
