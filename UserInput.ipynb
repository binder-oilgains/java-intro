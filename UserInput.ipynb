{
 "cells": [
  {
   "cell_type": "markdown",
   "metadata": {},
   "source": [
    "# User Input\n",
    "Use the Scanner object to enable users to enter text as input to your program. The Scanner library is **not** imported into your code by default (unlike the Math library), so you need to manually import it using the statement:\n",
    "\n",
    "`import java.util.Scanner;`\n",
    "\n",
    "This statement needs to go **outside** of any class or method (usually you would just put import statements at the very top of your program). Since Jupyter Notebooks doesn't really have specific class definitions, you'll see that it is grouped in with the other code in the example below, but when coding in Eclipse you will need to have this statement outside of your class definition. In other words, you would need it to look like:\n",
    "\n",
    "~~~\n",
    "import java.util.Scanner;\n",
    "\n",
    "public class MyClass\n",
    "{\n",
    "  public static void main(String[] args)\n",
    "  {\n",
    "    // Some code here\n",
    "  }\n",
    "}\n",
    "~~~\n",
    "\n",
    "Once you have imported the library, you need to create a Scanner object. You can name your Scanner whatever you want; I usually name mine `in` since we use it to read input from the user. To create your Scanner, the code is:\n",
    "\n",
    "`Scanner yourVariableName = new Scanner(System.in);`\n",
    "\n",
    "thus you'll see in the code below I have:\n",
    "\n",
    "`Scanner in = new Scanner(System.in);`\n",
    "\n",
    "The `System.in` argument tells Java to create a Scanner that reads in from the main system input (i.e., the user's keyboard). You can also use a Scanner to read in data from files, rather than reading in input from the user's keyboard, by giving the Scanner a link to some file rather than to `System.in`, but we will cover that later.\n",
    "\n",
    "Once you have created your Scanner, you can use it to read in data from the user. Common methods you might use include:\n",
    "\n",
    "- `next()` - reads in characters till the user types a space or newline (i.e., hits enter) and returns whatever the user typed as a `String`\n",
    "- `nextLine()` - reads in an entire line of text till the user hits enter and returns whatever the user typed as a `String`\n",
    "- `nextInt()` - reads in a single int (throws an error of type *InputMismatchException* if the user doesn't enter an int)\n",
    "- `nextDouble()` - reads in a single double (throws an error of type *InputMismatchException* if the user doesn't enter a double)\n",
    "\n",
    "You use your Scanner object to call any of these methods. In other words, if I named the Scanner I created above `in` then I would call methods on that variable, such as `in.next()`, `in.nextLine()`, etc. depending on what I wanted to read in from the user. A simple example is shown below:"
   ]
  },
  {
   "cell_type": "code",
   "execution_count": 4,
   "metadata": {},
   "outputs": [
    {
     "name": "stdout",
     "output_type": "stream",
     "text": [
      "Enter an int:\n"
     ]
    },
    {
     "name": "stdin",
     "output_type": "stream",
     "text": [
      " 2\n"
     ]
    },
    {
     "name": "stdout",
     "output_type": "stream",
     "text": [
      "You entered: 2\n"
     ]
    }
   ],
   "source": [
    "import java.util.Scanner;\n",
    "\n",
    "Scanner in = new Scanner(System.in);\n",
    "System.out.println(\"Enter an int:\");\n",
    "int x = in.nextInt();\n",
    "System.out.println(\"You entered: \" + x);"
   ]
  },
  {
   "cell_type": "markdown",
   "metadata": {},
   "source": [
    "If you need to ensure that the user only enters input of a certain type, for example if you want the user to enter an int but are worried that your program will crash if they don't give you an int, you can use a variety of `hasNext` methods, such as:\n",
    "\n",
    "* `hasNext()` - checks if there are any remaining characters left to be read in. This is usually used more for reading input from a file. Returns a boolean (true or false).\n",
    "* `hasNextLine()` - checks to see if there are any lines of text left to be read in. This is usually used more for reading input from a file, rather than the keyboard. Returns a boolean (true or false).\n",
    "* `hasNextInt()` - checks to see if there is an int to be read in. Returns a boolean (true or false)\n",
    "* `hasNextDouble()` - checks to see if there is a double to be read in. Returns a boolean (true or false)\n",
    "\n",
    "A short demo is shown below:"
   ]
  },
  {
   "cell_type": "code",
   "execution_count": null,
   "metadata": {},
   "outputs": [],
   "source": [
    "import java.util.Scanner;\n",
    "\n",
    "Scanner in = new Scanner(System.in);\n",
    "System.out.println(\"Enter an int:\");\n",
    "if (in.hasNextInt()) {\n",
    "  int x = in.nextInt();\n",
    "  System.out.println(\"You entered: \" + x);\n",
    "}\n",
    "else {\n",
    "    System.out.println(\"You didn't enter an int!\");\n",
    "}"
   ]
  },
  {
   "cell_type": "markdown",
   "metadata": {},
   "source": [
    "If you are checking for user input, one thing to make sure of is that you discard any input the user gave you that isn't what you want. For example, let's say you run the code above and enter an 'A' - in this case, the 'A' is still the next thing to be read in after the code is run (i.e., it has never been cleared from what is known as the *input buffer*). Thus, you might get wierd effects like below (try entering 'A' and see what happens):"
   ]
  },
  {
   "cell_type": "code",
   "execution_count": 2,
   "metadata": {},
   "outputs": [
    {
     "name": "stdout",
     "output_type": "stream",
     "text": [
      "Enter an int:\n"
     ]
    },
    {
     "name": "stdin",
     "output_type": "stream",
     "text": [
      " A\n"
     ]
    },
    {
     "name": "stdout",
     "output_type": "stream",
     "text": [
      "You didn't enter an int!\n",
      "Give me another int:\n",
      "You didn't enter an int!\n"
     ]
    }
   ],
   "source": [
    "import java.util.Scanner;\n",
    "\n",
    "Scanner in = new Scanner(System.in);\n",
    "System.out.println(\"Enter an int:\");\n",
    "if (in.hasNextInt()) {\n",
    "  int x = in.nextInt();\n",
    "  System.out.println(\"You entered: \" + x);\n",
    "}\n",
    "else {\n",
    "    System.out.println(\"You didn't enter an int!\");\n",
    "}\n",
    "\n",
    "System.out.println(\"Give me another int:\");\n",
    "if (in.hasNextInt()) {\n",
    "  int x = in.nextInt();\n",
    "  System.out.println(\"You entered: \" + x);\n",
    "}\n",
    "else {\n",
    "    System.out.println(\"You didn't enter an int!\");\n",
    "}"
   ]
  },
  {
   "cell_type": "markdown",
   "metadata": {},
   "source": [
    "Notice how you get two messages about \"You didn't enter an int!\" and the user doesn't actually get a chance to enter a second int. The reason is that the 'A' never gets cleared from the input buffer. To clear the input buffer, the easiest way is often to simply call `nextLine()` which will read in any remaining input on the input buffer and, assuming you don't assign it to any variable, simply discard it. A fixed example of the code above is shown below, which will give the user a second chance to enter an int even if they don't enter an int the first time:"
   ]
  },
  {
   "cell_type": "code",
   "execution_count": 3,
   "metadata": {},
   "outputs": [
    {
     "name": "stdout",
     "output_type": "stream",
     "text": [
      "Enter an int:\n"
     ]
    },
    {
     "name": "stdin",
     "output_type": "stream",
     "text": [
      " A\n"
     ]
    },
    {
     "name": "stdout",
     "output_type": "stream",
     "text": [
      "You didn't enter an int!\n",
      "Give me another int:\n"
     ]
    },
    {
     "name": "stdin",
     "output_type": "stream",
     "text": [
      " 5\n"
     ]
    },
    {
     "name": "stdout",
     "output_type": "stream",
     "text": [
      "You entered: 5\n"
     ]
    }
   ],
   "source": [
    "import java.util.Scanner;\n",
    "\n",
    "Scanner in = new Scanner(System.in);\n",
    "System.out.println(\"Enter an int:\");\n",
    "if (in.hasNextInt()) {\n",
    "  int x = in.nextInt();\n",
    "  System.out.println(\"You entered: \" + x);\n",
    "}\n",
    "else {\n",
    "    System.out.println(\"You didn't enter an int!\");\n",
    "    in.nextLine(); // Clears the input buffer for whatever bad input the user entered\n",
    "}\n",
    "\n",
    "System.out.println(\"Give me another int:\");\n",
    "if (in.hasNextInt()) {\n",
    "  int x = in.nextInt();\n",
    "  System.out.println(\"You entered: \" + x);\n",
    "}\n",
    "else {\n",
    "    System.out.println(\"You didn't enter an int!\");\n",
    "    in.nextLine(); // Clears the input buffer for whatever bad input the user entered\n",
    "}"
   ]
  }
 ],
 "metadata": {
  "kernelspec": {
   "display_name": "Java",
   "language": "java",
   "name": "java"
  },
  "language_info": {
   "codemirror_mode": "java",
   "file_extension": ".jshell",
   "mimetype": "text/x-java-source",
   "name": "Java",
   "pygments_lexer": "java",
   "version": "11.0.3+7"
  }
 },
 "nbformat": 4,
 "nbformat_minor": 2
}
