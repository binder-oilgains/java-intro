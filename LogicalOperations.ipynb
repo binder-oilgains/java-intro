{
 "cells": [
  {
   "cell_type": "markdown",
   "metadata": {},
   "source": [
    "# Logical Operators and Conditionals\n",
    "\n",
    "Logical operators work just the same as they do in Python or C++ and enable you to compare variables. You typically use such operators within **conditionals** (if statements). If statements in Java are identical to C++ and are similar to Python, but remember that you will need squiggly braces (unlike in Python where you simply use whitespace). A simple example is below:"
   ]
  },
  {
   "cell_type": "code",
   "execution_count": 8,
   "metadata": {},
   "outputs": [
    {
     "name": "stdout",
     "output_type": "stream",
     "text": [
      "5 is greater than 3\n"
     ]
    }
   ],
   "source": [
    "int x = 5, y = 3;\n",
    "\n",
    "if (x > y) \n",
    "{\n",
    "    System.out.println(x + \" is greater than \" + y);\n",
    "}\n",
    "else if (x == y)\n",
    "{\n",
    "    System.out.println(x + \" is equal to \" + y);\n",
    "}\n",
    "else \n",
    "{\n",
    "    System.out.println(x + \" is less than \" + y);\n",
    "}"
   ]
  },
  {
   "cell_type": "markdown",
   "metadata": {},
   "source": [
    "## Comparison Operators\n",
    "\n",
    "The following are valid operators for comparing variable values in Java:\n",
    "\n",
    "* `==` checks for equality\n",
    "* `!=` checks for inequality\n",
    "* `<` checks if one variable is less than another\n",
    "* `<=` checks if one variable is less than or equal to another\n",
    "* `>` checks if one variable is greater than another\n",
    "* `>=` checks if one variable is greater than or equal to another\n",
    "\n",
    "A simple example is below:"
   ]
  },
  {
   "cell_type": "code",
   "execution_count": 12,
   "metadata": {},
   "outputs": [
    {
     "name": "stdout",
     "output_type": "stream",
     "text": [
      "Enter an int:\n"
     ]
    },
    {
     "name": "stdin",
     "output_type": "stream",
     "text": [
      " 3\n"
     ]
    },
    {
     "name": "stdout",
     "output_type": "stream",
     "text": [
      "Enter a second int:\n"
     ]
    },
    {
     "name": "stdin",
     "output_type": "stream",
     "text": [
      " 5\n"
     ]
    },
    {
     "name": "stdout",
     "output_type": "stream",
     "text": [
      "Your second number was bigger\n"
     ]
    }
   ],
   "source": [
    "Scanner in = new Scanner(System.in);\n",
    "System.out.println(\"Enter an int:\");\n",
    "int x = in.nextInt();\n",
    "System.out.println(\"Enter a second int:\");\n",
    "int y = in.nextInt();\n",
    "\n",
    "if (x >= y) {\n",
    "    System.out.println(\"Your first number was greater than or equal to your second number\");\n",
    "}\n",
    "else {\n",
    "    System.out.println(\"Your second number was bigger\");\n",
    "}"
   ]
  },
  {
   "cell_type": "markdown",
   "metadata": {},
   "source": [
    "In general, you only want to use these operators with **primitive** variable types, not with **reference** variables (i.e., objects), like Strings. This is because technically each of these operators works based on whatever value is stored by the variables on each side of the operator. For reference type variables, the value stored by the variable itself is a memory location to where the real data is, thus if you use these operators you will be comparing memory locations, not actual data, which is rarely what you want. Instead, you'll want to use methods such as `.equals()` for example:"
   ]
  },
  {
   "cell_type": "code",
   "execution_count": 21,
   "metadata": {},
   "outputs": [
    {
     "name": "stdout",
     "output_type": "stream",
     "text": [
      "true\n",
      "true\n",
      "false\n",
      "false\n",
      "false\n",
      "true\n",
      "false\n",
      "true\n"
     ]
    }
   ],
   "source": [
    "String x = \"abc\";\n",
    "String y = x; // x and y are both \"abc\" and both point to the same spot in memory\n",
    "System.out.println(x == y); // prints true since they have the same memory address\n",
    "System.out.println(x.equals(y)); // prints true\n",
    "\n",
    "y = y.toUpperCase(); // y is now \"ABC\" and points to a different spot in memory than x\n",
    "System.out.println(x == y); // prints false since x and y have different memory addresses\n",
    "System.out.println(x.equals(y)); // prints false since x is \"abc\" and y is \"ABC\" thus they are not the same String\n",
    "\n",
    "y = y.toLowerCase(); // y is now \"abc\" again, but still points to a different spot in memory than x\n",
    "System.out.println(x == y); // prints false since x and y have different memory addresses\n",
    "System.out.println(x.equals(y)); // prints true since .equals will compare their actual Strings and both x and y are \"abc\"\n",
    "\n",
    "// In general, use .equals or variants on it\n",
    "String z = \"ABC\";\n",
    "System.out.println(x.equals(z));\n",
    "System.out.println(x.equalsIgnoreCase(z));"
   ]
  },
  {
   "cell_type": "markdown",
   "metadata": {},
   "source": [
    "## Boolean Operators\n",
    "\n",
    "Boolean operators in Java are exactly the same as in C++ and work the same as in Python, but with different syntax. The syntax differences are highlighed below:\n",
    "\n",
    "| **Python**  |  **Java** |\n",
    "|-------------|-----------|  \n",
    "| `not`       | `!`       |\n",
    "| `and`       | `&&`      |\n",
    "| `or`        | ||||      |\n",
    "\n",
    "Boolean operators have a lower precedence than arithmetic operators. A simple example is below:"
   ]
  },
  {
   "cell_type": "code",
   "execution_count": 25,
   "metadata": {},
   "outputs": [
    {
     "name": "stdout",
     "output_type": "stream",
     "text": [
      "Both numbers are even\n"
     ]
    }
   ],
   "source": [
    "int x = 4, y = 8;\n",
    "\n",
    "if (x % 2 == 0 && y % 2 == 0) { // Remember that % is the modulus operator\n",
    "    System.out.println(\"Both numbers are even\");\n",
    "}\n",
    "else {\n",
    "    System.out.println(\"At least one number is odd\");\n",
    "}"
   ]
  },
  {
   "cell_type": "markdown",
   "metadata": {},
   "source": [
    "## Scope\n",
    "Variables are only defined in the scope of their enclosing squiggly braces. Thus, if you declare a variable within an if statement, you won't be able to use it outside. However, any variable declared before and outside an if statement are available within it. An example is below:"
   ]
  },
  {
   "cell_type": "code",
   "execution_count": 29,
   "metadata": {},
   "outputs": [
    {
     "name": "stdout",
     "output_type": "stream",
     "text": [
      "It's fine to use x here since we declared it above and outside the if statement\n",
      "We can use y here. Its value is: 3\n"
     ]
    }
   ],
   "source": [
    "int x = 5;\n",
    "if (x > 4) {\n",
    "    System.out.println(\"It's fine to use x here since we declared it above and outside the if statement\");\n",
    "    int y = 3;\n",
    "    System.out.println(\"We can use y here. Its value is: \" + y);\n",
    "}\n",
    "// We can't use y here since it is only defined within the if statement. If you try, Jupyter Notebooks might actually let you, because it does some wierd scoping stuff behind the scenes.\n",
    "// But this won't work in Eclipse or any normal programming scenario (you will get a compile time error)."
   ]
  },
  {
   "cell_type": "markdown",
   "metadata": {},
   "source": [
    "## Switch Statement\n",
    "The `switch` statement is an alternative to writing long lines of if...else if...else if... blocks where you are testing the same variable in each boolean expression. An example is below:"
   ]
  },
  {
   "cell_type": "code",
   "execution_count": null,
   "metadata": {},
   "outputs": [],
   "source": [
    "import java.util.Scanner;\n",
    "\n",
    "Scanner in = new Scanner(System.in);\n",
    "\n",
    "int day = in.nextInt(); // 1 - 7 for a day\n",
    "String dayName = \"\";\n",
    "\n",
    "switch(day)\n",
    "{\n",
    "    case 1: dayName = \"Sunday\"; break; //equivalent to if (day == 1)\n",
    "    case 2: dayName = \"Monday\"; break; //equivalent to else if (day == 2)\n",
    "    case 3: dayName = \"Tuesday\"; break;\n",
    "    case 4: dayName = \"Wednesday\"; break;\n",
    "    case 5: dayName = \"Thursday\"; break;\n",
    "    case 6: dayName = \"Friday\"; break;\n",
    "    case 7: dayName = \"Saturday\"; break;\n",
    "    default: dayName = \"Invalid number!\"; break; // equivalent to a final else\n",
    "}\n",
    "\n",
    "S"
   ]
  }
 ],
 "metadata": {
  "kernelspec": {
   "display_name": "Java",
   "language": "java",
   "name": "java"
  },
  "language_info": {
   "codemirror_mode": "java",
   "file_extension": ".jshell",
   "mimetype": "text/x-java-source",
   "name": "Java",
   "pygments_lexer": "java",
   "version": "11.0.3+7"
  }
 },
 "nbformat": 4,
 "nbformat_minor": 2
}
